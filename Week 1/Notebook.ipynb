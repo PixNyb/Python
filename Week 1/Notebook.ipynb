{
 "cells": [
  {
   "cell_type": "markdown",
   "metadata": {},
   "source": [
    "# Python Week 1"
   ]
  },
  {
   "cell_type": "markdown",
   "metadata": {},
   "source": [
    "## 2.5 Spelen met de python shell"
   ]
  },
  {
   "cell_type": "code",
   "execution_count": null,
   "metadata": {},
   "outputs": [],
   "source": [
    "a = 42\n",
    "print(a)\n",
    "print(type(a))\n",
    "\n",
    "print(2 + (3 * 4))\n",
    "\n",
    "for i in range(5):\n",
    "    print('Spam!')"
   ]
  },
  {
   "cell_type": "markdown",
   "metadata": {},
   "source": [
    "## 2.6 Machtverheffen"
   ]
  },
  {
   "cell_type": "code",
   "execution_count": null,
   "metadata": {},
   "outputs": [],
   "source": [
    "print(pow(2, 1000))"
   ]
  },
  {
   "cell_type": "markdown",
   "metadata": {},
   "source": [
    "## 2.7 Cijfers tellen"
   ]
  },
  {
   "cell_type": "code",
   "execution_count": null,
   "metadata": {},
   "outputs": [],
   "source": [
    "print(len(str(pow(2, 1000))))"
   ]
  },
  {
   "cell_type": "markdown",
   "metadata": {},
   "source": [
    "## 3.1 BMI uitrekenen"
   ]
  },
  {
   "cell_type": "code",
   "execution_count": null,
   "metadata": {},
   "outputs": [],
   "source": [
    "# BMI.py\n",
    "length = float(input('What\\'s your length in meters?'))\n",
    "weight = float(input('what\\'s your weight in kg?'))\n",
    "\n",
    "bmi = weight / ( length * length )\n",
    "\n",
    "print(bmi)"
   ]
  },
  {
   "cell_type": "markdown",
   "metadata": {},
   "source": [
    "## 3.2 Oefenen met slices"
   ]
  },
  {
   "cell_type": "code",
   "execution_count": null,
   "metadata": {},
   "outputs": [],
   "source": [
    "a = \"abcdefghijklmnopqrstuvwxyz\"\n",
    "\n",
    "print(a[2:4] + \", beredeneerd: cd\")\n",
    "print(a[2:10] + \", beredeneerd: cdefghij\")\n",
    "print(a[2:10:2] + \", beredeneerd: cegi\")\n",
    "print(a[10:2:-1] + \", beredeneerd: kjihgfed\")"
   ]
  },
  {
   "cell_type": "markdown",
   "metadata": {},
   "source": [
    "## 3.3 Kassa\n",
    "\n",
    "- Bedenk eerst hoe je dit handmatig met een echte kassa zou doen\n",
    "    - Ik zou beginnen met zo veel mogelijk biljetten met het grootste valuta uit te delen tot het niet meer past, en dan verder te gaan met het volgende biljet\n",
    "- Bedenk een aanpak voor je oplossing\n",
    "    1. Ik pak het 500 euro biljet en kijk of deze in het bedrag past\n",
    "    2. Past het? dan trek ik 500 euro van het bedrag af en schrijf ik op dat ik het biljet een keer heb gebruikt\n",
    "    3. Past het niet? dan ga ik naar het biljet met de hoogste valuta na het huidige biljet en herhaal ik stap 1 met dit biljet"
   ]
  },
  {
   "cell_type": "code",
   "execution_count": null,
   "metadata": {},
   "outputs": [],
   "source": [
    "value = float(input('What\\'s the value?'))\n",
    "bills = {500: 0, 200: 0, 100: 0, 50: 0, 20: 0, 10: 0, 5: 0}\n",
    "maxtries = 50\n",
    "i = 0\n",
    "\n",
    "for bill in bills:\n",
    "    while (value >= bill):\n",
    "        bills[bill] += 1\n",
    "        value -= bill\n",
    "\n",
    "print(bills)\n",
    "print('Over: ' + str(value) + ' euro')"
   ]
  },
  {
   "cell_type": "markdown",
   "metadata": {},
   "source": [
    "## 3.4 Gemiddelde uitrekenen"
   ]
  },
  {
   "cell_type": "code",
   "execution_count": null,
   "metadata": {},
   "outputs": [],
   "source": [
    "data = (34, -105, 78, 2, -58, 231, 64)\n",
    "print(round(sum(data) / len(data)))"
   ]
  },
  {
   "cell_type": "markdown",
   "metadata": {},
   "source": [
    "## 3.5 Wet van Benford"
   ]
  },
  {
   "cell_type": "code",
   "execution_count": null,
   "metadata": {},
   "outputs": [],
   "source": [
    "import numpy as np\n",
    "import matplotlib.pyplot as plt\n",
    "%matplotlib inline\n",
    "\n",
    "values = {}\n",
    "\n",
    "for i in range(1000):\n",
    "    val = str(pow(2, i))[0]\n",
    "    if val in values:\n",
    "        values[val] += 1\n",
    "    else:\n",
    "        values[val] = 1\n",
    "\n",
    "# print(values)\n",
    "\n",
    "plt.bar(*zip(*values.items()))\n",
    "plt.show()"
   ]
  },
  {
   "cell_type": "markdown",
   "metadata": {},
   "source": [
    "## 3.6 Regels, woorden en tekens tellen"
   ]
  },
  {
   "cell_type": "code",
   "execution_count": null,
   "metadata": {},
   "outputs": [],
   "source": [
    "import os\n",
    "import re\n",
    "\n",
    "curPath = os.path.abspath(\"Notebook.ipynb\")\n",
    "bookPath = os.path.join(os.path.dirname(curPath), \"DikTrom.txt\")\n",
    "\n",
    "try:\n",
    "    book = open(bookPath)\n",
    "except FileNotFoundError:\n",
    "    print(\"DikTrom.txt was not found\")\n",
    "    sys.exit(1)\n",
    "except OSError:\n",
    "    print(\"OS error occurred\")\n",
    "    sys.exit(1)\n",
    "else:\n",
    "    with book:\n",
    "        lines = list(book)\n",
    "\n",
    "        count = 0\n",
    "        words = 0\n",
    "        chars = 0\n",
    "\n",
    "        for line in lines:\n",
    "            count += 1\n",
    "            words += len(line.split())\n",
    "            chars += len(line)\n",
    "            print('Line ' + str(count) + ': ' + line)\n",
    "\n",
    "        print(f'{count} Lines, {words} Words, {chars} Characters')"
   ]
  }
 ],
 "metadata": {
  "interpreter": {
   "hash": "916dbcbb3f70747c44a77c7bcd40155683ae19c65e1c03b4aa3499c5328201f1"
  },
  "kernelspec": {
   "display_name": "Python 3.8.10 64-bit",
   "language": "python",
   "name": "python3"
  },
  "language_info": {
   "codemirror_mode": {
    "name": "ipython",
    "version": 3
   },
   "file_extension": ".py",
   "mimetype": "text/x-python",
   "name": "python",
   "nbconvert_exporter": "python",
   "pygments_lexer": "ipython3",
   "version": "3.8.10"
  },
  "orig_nbformat": 4
 },
 "nbformat": 4,
 "nbformat_minor": 2
}
