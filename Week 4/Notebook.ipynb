{
 "cells": [
  {
   "cell_type": "markdown",
   "metadata": {},
   "source": [
    "# Python week 4"
   ]
  },
  {
   "cell_type": "markdown",
   "metadata": {},
   "source": [
    "## 2.1 Prijslijst"
   ]
  },
  {
   "cell_type": "code",
   "execution_count": 10,
   "metadata": {},
   "outputs": [
    {
     "name": "stdout",
     "output_type": "stream",
     "text": [
      "name           price\n",
      "television     $   699.00\n",
      "subwoofer      $   249.99\n",
      "beamer         $  2325.00\n",
      "soundbar       $   299.00\n",
      "IP cam         $   124.90\n"
     ]
    }
   ],
   "source": [
    "articles = {\"television\": 699, \"subwoofer\": 249.99,\n",
    "            \"beamer\": 2325, \"soundbar\": 299, \"IP cam\": 124.9}\n",
    "\n",
    "\n",
    "def format_(lis):\n",
    "    print(\"name\".ljust(15) + \"price\")\n",
    "    for item in lis:\n",
    "        print(item.ljust(15) + \"$\" + \"{:.2f}\".format(lis[item]).rjust(9))\n",
    "\n",
    "\n",
    "format_(articles)"
   ]
  },
  {
   "cell_type": "markdown",
   "metadata": {},
   "source": [
    "## 3 Comprehensions\n",
    "\n",
    "### 3.1 Functie naar one-liner"
   ]
  },
  {
   "cell_type": "code",
   "execution_count": 34,
   "metadata": {},
   "outputs": [
    {
     "name": "stdout",
     "output_type": "stream",
     "text": [
      "[1, 3, 5, 7, 9, 11, 13, 15, 17, 19, 21, 23, 25, 27, 29, 31, 33, 35, 37, 39, 41, 43, 45, 47, 49, 51, 53, 55, 57, 59, 61, 63, 65, 67, 69, 71, 73, 75, 77, 79, 81, 83, 85, 87, 89, 91, 93, 95, 97, 99]\n"
     ]
    }
   ],
   "source": [
    "numbers = range(100)\n",
    "print([i for i in numbers if i % 2 != 0])"
   ]
  },
  {
   "cell_type": "markdown",
   "metadata": {},
   "source": [
    "### 3.2 Hoeveel whitespace?"
   ]
  },
  {
   "cell_type": "code",
   "execution_count": 35,
   "metadata": {},
   "outputs": [
    {
     "name": "stdout",
     "output_type": "stream",
     "text": [
      "13\n"
     ]
    }
   ],
   "source": [
    "string = \"Dolor tempor officia enim sit occaecat officia velit ad excepteur cillum ipsum magna cupidatat.\"\n",
    "print(len([i for i in string if i == ' ']))"
   ]
  },
  {
   "cell_type": "markdown",
   "metadata": {},
   "source": [
    "### 3.3 Karakters tellen"
   ]
  },
  {
   "cell_type": "code",
   "execution_count": 36,
   "metadata": {},
   "outputs": [
    {
     "name": "stdout",
     "output_type": "stream",
     "text": [
      "{'Dolor': 5, 'tempor': 6, 'officia': 7, 'enim': 4, 'sit': 3, 'occaecat': 8, 'velit': 5, 'ad': 2, 'excepteur': 9, 'cillum': 6, 'ipsum': 5, 'magna': 5, 'cupidatat.': 10}\n"
     ]
    }
   ],
   "source": [
    "string = \"Dolor tempor officia enim sit occaecat officia velit ad excepteur cillum ipsum magna cupidatat.\"\n",
    "print({w: len(w) for w in string.split(\" \")})"
   ]
  },
  {
   "cell_type": "markdown",
   "metadata": {},
   "source": [
    "### 3.4 Priemgetallen"
   ]
  },
  {
   "cell_type": "code",
   "execution_count": 38,
   "metadata": {},
   "outputs": [
    {
     "name": "stdout",
     "output_type": "stream",
     "text": [
      "[2, 3, 5, 7]\n"
     ]
    }
   ],
   "source": [
    "import math\n",
    "\n",
    "range_from = int(input('Start of prime range:'))\n",
    "range_to = int(input('End of prime range:'))\n",
    "\n",
    "\n",
    "def isprime(num):\n",
    "    a = 2\n",
    "    while a <= math.sqrt(num):\n",
    "        if num % a < 1:\n",
    "            return False\n",
    "        a += 1\n",
    "    return num > 1\n",
    "\n",
    "\n",
    "print([i for i in range(range_from, range_to + 1) if isprime(i)])\n"
   ]
  },
  {
   "cell_type": "markdown",
   "metadata": {},
   "source": [
    "## 4 Pythonic, or not..\n",
    "### 4.1 Histogram"
   ]
  },
  {
   "cell_type": "code",
   "execution_count": 47,
   "metadata": {},
   "outputs": [
    {
     "data": {
      "image/png": "[encoded data removed]",
      "text/plain": [
       "<Figure size 432x288 with 1 Axes>"
      ]
     },
     "metadata": {
      "needs_background": "light"
     },
     "output_type": "display_data"
    }
   ],
   "source": [
    "import os\n",
    "import matplotlib.pyplot as plt\n",
    "%matplotlib inline\n",
    "\n",
    "text = \"Nostrud officia ut Lorem ut velit proident dolor anim dolor velit. Id mollit non veniam velit est labore exercitation anim ullamco velit quis. Occaecat ad mollit aute culpa velit pariatur. Consectetur do minim esse minim commodo esse. In dolor cupidatat esse reprehenderit consequat. Commodo sint adipisicing est ut. Laboris do anim id aute magna nisi cillum eiusmod. Labore laborum nisi velit proident cupidatat velit. Laboris sunt commodo in minim dolor laboris mollit exercitation id. Dolor fugiat aliquip mollit in ea tempor culpa Lorem occaecat exercitation ut. Deserunt adipisicing dolore nulla ullamco dolore occaecat consectetur esse irure. Et ullamco consectetur ullamco labore ipsum laborum aliqua eu eu laboris do quis velit. Id irure eiusmod culpa elit consectetur id sit. Fugiat deserunt veniam commodo culpa sint tempor nostrud. Fugiat ad ad Lorem adipisicing culpa magna et nostrud ea velit. Ad excepteur exercitation commodo ut elit mollit ullamco magna sit adipisicing Lorem sint. Consequat et sint exercitation magna duis ipsum mollit. Quis labore magna cillum enim laboris. In cillum fugiat ut ut veniam non nulla anim. Minim ad in eu duis do enim aliquip sunt consequat dolor labore. Dolore minim cupidatat non magna dolore ad excepteur. Est excepteur id cupidatat enim ex aliquip sit nostrud. Culpa id ex anim culpa sunt mollit consequat cupidatat cupidatat. Esse exercitation eiusmod eiusmod sit cupidatat. Cupidatat culpa occaecat commodo est officia dolor culpa irure. Duis commodo est laboris cillum dolor enim.\"\n",
    "\n",
    "plt.bar(*zip(*{w: text.count(w) for w in text.split(\" \")}.items()))\n",
    "plt.show()\n"
   ]
  }
 ],
 "metadata": {
  "interpreter": {
   "hash": "916dbcbb3f70747c44a77c7bcd40155683ae19c65e1c03b4aa3499c5328201f1"
  },
  "kernelspec": {
   "display_name": "Python 3.8.10 64-bit",
   "language": "python",
   "name": "python3"
  },
  "language_info": {
   "codemirror_mode": {
    "name": "ipython",
    "version": 3
   },
   "file_extension": ".py",
   "mimetype": "text/x-python",
   "name": "python",
   "nbconvert_exporter": "python",
   "pygments_lexer": "ipython3",
   "version": "3.8.10"
  },
  "orig_nbformat": 4
 },
 "nbformat": 4,
 "nbformat_minor": 2
}
