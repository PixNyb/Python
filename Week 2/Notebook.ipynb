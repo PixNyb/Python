{
 "cells": [
  {
   "cell_type": "markdown",
   "metadata": {},
   "source": [
    "# Python week 2"
   ]
  },
  {
   "cell_type": "markdown",
   "metadata": {},
   "source": [
    "## 2.1 Debug first!"
   ]
  },
  {
   "cell_type": "code",
   "execution_count": 5,
   "metadata": {},
   "outputs": [
    {
     "name": "stdout",
     "output_type": "stream",
     "text": [
      "15109\n"
     ]
    }
   ],
   "source": [
    "def unicount(word): \n",
    "    result = 0\n",
    "    for c in word: \n",
    "        result += ord(c)\n",
    "    return result\n",
    "\n",
    "def unimaster(func, words): \n",
    "    result = 0\n",
    "    for word in words: \n",
    "        result += func(word)\n",
    "    return result\n",
    "\n",
    "if __name__ == \"__main__\":\n",
    "    story = \"If you don’t know who I am, then maybe your best \\\n",
    "             course would be to tread lightly.\".split()\n",
    "    print(unimaster(unicount, story)) # should print 15109!"
   ]
  },
  {
   "cell_type": "markdown",
   "metadata": {},
   "source": [
    "## 2.2 Vermenigvuldigen, optellen en teruggeven"
   ]
  },
  {
   "cell_type": "code",
   "execution_count": 18,
   "metadata": {},
   "outputs": [],
   "source": [
    "def multipla(elements, multiplier):\n",
    "    multiplied = []\n",
    "    for element in elements:\n",
    "        multiplied.append(element * multiplier)\n",
    "    return sum(multiplied)\n",
    "\n",
    "numbers = (1, 2)\n",
    "multiplier = 3\n",
    "answer = multipla(numbers, multiplier)\n",
    "\n",
    "assert (answer == 9)\n",
    "assert (multipla([3, 4, 99, 1, 4], 31) == 3441)\n",
    "assert (multipla((3, 1, 3), -12) == -84)\n",
    "assert (multipla((9, 3215, 31, 6, 5, 4, 23, 52, 35, 26, 6, 26, 46, 4, 8, 42, 2, 77, 685, 24, 24), 102) == 443700)"
   ]
  },
  {
   "cell_type": "markdown",
   "metadata": {},
   "source": [
    "## 2.3 Alleen even getallen"
   ]
  },
  {
   "cell_type": "code",
   "execution_count": 23,
   "metadata": {},
   "outputs": [],
   "source": [
    "def only_even(nums):\n",
    "    even = []\n",
    "    for num in nums:\n",
    "        if (num % 2) == 0:\n",
    "            even.append(num)\n",
    "    return even\n",
    "\n",
    "numbers = [5, 15, 12, 2, 353, 1, 5151]\n",
    "answer = only_even(numbers)\n",
    "\n",
    "assert (answer == [12, 2])"
   ]
  },
  {
   "cell_type": "markdown",
   "metadata": {},
   "source": [
    "## 2.4 Printing weird numbers!"
   ]
  },
  {
   "cell_type": "code",
   "execution_count": 45,
   "metadata": {},
   "outputs": [],
   "source": [
    "def print_werid_numbers(min = 1500, max = 3297):\n",
    "    nums = []\n",
    "    for num in range(min, max + 1):\n",
    "        if (num % 7) == 0 and (num % 5):\n",
    "            nums.append(str(num))\n",
    "    # print(','.join(nums))\n",
    "    return ','.join(nums)\n",
    "\n",
    "# print_werid_numbers()\n",
    "weirdNums = print_werid_numbers()\n",
    "\n",
    "assert (len(weirdNums.split(',')) == 205)\n",
    "assert weirdNums.startswith('1512,1519,1526,1533,1547,1554,1561,1568')\n",
    "\n",
    "weirdUpperboundNums = print_werid_numbers(max = 5000)"
   ]
  },
  {
   "cell_type": "markdown",
   "metadata": {},
   "source": [
    "## 2.5 Counting"
   ]
  },
  {
   "cell_type": "code",
   "execution_count": 54,
   "metadata": {},
   "outputs": [],
   "source": [
    "def count_char(string):\n",
    "    upper = 0\n",
    "    lower = 0\n",
    "    for c in string:\n",
    "        if c.isupper():\n",
    "            upper += 1\n",
    "        elif c.islower():\n",
    "            lower += 1\n",
    "    return upper, lower\n",
    "\n",
    "\n",
    "uppers, lowers = count_char(\n",
    "    \"Do not try and bend the spoon, that's impossible. Instead, only try to realize the truth... there is no spoon. \")\n",
    "\n",
    "assert(uppers == 2 and lowers == 81)"
   ]
  },
  {
   "cell_type": "markdown",
   "metadata": {},
   "source": [
    "## 2.6 Multipla revisited"
   ]
  },
  {
   "cell_type": "code",
   "execution_count": 65,
   "metadata": {},
   "outputs": [],
   "source": [
    "def multipla(multiplier, *elements):\n",
    "    multiplied = []\n",
    "    for element in elements:\n",
    "        multiplied.append(element * multiplier)\n",
    "    return sum(multiplied)\n",
    "\n",
    "multiplier = 3\n",
    "answer = multipla(multiplier, 1, 2)\n",
    "\n",
    "assert (answer == 9)"
   ]
  },
  {
   "cell_type": "markdown",
   "metadata": {},
   "source": [
    "## 3.1 Grootste gemene deler"
   ]
  },
  {
   "cell_type": "code",
   "execution_count": 70,
   "metadata": {},
   "outputs": [],
   "source": [
    "from math import gcd\n",
    "\n",
    "def grootste_gemene_deler(num1, num2):\n",
    "    return gcd(num1, num2)\n",
    "\n",
    "assert grootste_gemene_deler(5, 10) == 5\n",
    "assert grootste_gemene_deler(44, 12) == 4\n",
    "assert grootste_gemene_deler(23, 69) == 23"
   ]
  },
  {
   "cell_type": "markdown",
   "metadata": {},
   "source": [
    "## 4.1 Ruimtereis"
   ]
  },
  {
   "cell_type": "code",
   "execution_count": 75,
   "metadata": {},
   "outputs": [
    {
     "name": "stdout",
     "output_type": "stream",
     "text": [
      "1650758205\n"
     ]
    }
   ],
   "source": [
    "from math import floor\n",
    "\n",
    "def fuelFromMass(mass):\n",
    "    return floor(mass / 3) - 2\n",
    "\n",
    "assert fuelFromMass(18) == 4\n",
    "assert fuelFromMass(121) == 38\n",
    "\n",
    "modules = (\n",
    "    123, 124515, 555, 1, 5, 16, 45, 78, 94, 894894, 8948, 5,\n",
    "    645612, 8465, 56456, 12, 15456, 4568, 48, 456456, 4566, 9,\n",
    "    4949794856, 2323, 15456, 231865, 891, 564, 41, 7897, 4)\n",
    "\n",
    "mass = 0\n",
    "for module in modules:\n",
    "    mass += fuelFromMass(module)\n",
    "\n",
    "print(mass)"
   ]
  },
  {
   "cell_type": "markdown",
   "metadata": {},
   "source": [
    "## 4.2 Ruimtereis p2"
   ]
  },
  {
   "cell_type": "code",
   "execution_count": 83,
   "metadata": {},
   "outputs": [
    {
     "name": "stdout",
     "output_type": "stream",
     "text": [
      "2476136817\n"
     ]
    }
   ],
   "source": [
    "from math import floor\n",
    "\n",
    "def fuelFromMass(mass):\n",
    "    value = floor(mass / 3) - 2\n",
    "    if (value > 8):\n",
    "        value += fuelFromMass(value)\n",
    "    elif (value < 0):\n",
    "        value = 0\n",
    "    return value\n",
    "\n",
    "modules = (\n",
    "    123, 124515, 555, 1, 5, 16, 45, 78, 94, 894894, 8948, 5,\n",
    "    645612, 8465, 56456, 12, 15456, 4568, 48, 456456, 4566, 9,\n",
    "    4949794856, 2323, 15456, 231865, 891, 564, 41, 7897, 4)\n",
    "\n",
    "mass = 0\n",
    "for module in modules:\n",
    "    mass += fuelFromMass(module)\n",
    "\n",
    "print(mass)\n"
   ]
  }
 ],
 "metadata": {
  "interpreter": {
   "hash": "916dbcbb3f70747c44a77c7bcd40155683ae19c65e1c03b4aa3499c5328201f1"
  },
  "kernelspec": {
   "display_name": "Python 3.8.10 64-bit",
   "language": "python",
   "name": "python3"
  },
  "language_info": {
   "codemirror_mode": {
    "name": "ipython",
    "version": 3
   },
   "file_extension": ".py",
   "mimetype": "text/x-python",
   "name": "python",
   "nbconvert_exporter": "python",
   "pygments_lexer": "ipython3",
   "version": "3.8.10"
  },
  "orig_nbformat": 4
 },
 "nbformat": 4,
 "nbformat_minor": 2
}
