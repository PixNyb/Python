{
 "cells": [
  {
   "cell_type": "markdown",
   "metadata": {},
   "source": [
    "# Python week 3"
   ]
  },
  {
   "cell_type": "markdown",
   "metadata": {},
   "source": [
    "## 2.1 Alpi di Alpaca"
   ]
  },
  {
   "cell_type": "code",
   "execution_count": 15,
   "metadata": {},
   "outputs": [
    {
     "name": "stdout",
     "output_type": "stream",
     "text": [
      "I am Alpi the Brown Alpaca and I am 0 years old\n",
      "Yiehaa, birthday Alpaca!\n",
      "I am Alpi the Brown Alpaca and I am 1 years old\n",
      "Yiehaa, birthday Alpaca!\n",
      "Yiehaa, birthday Alpaca!\n",
      "Yiehaa, birthday Alpaca!\n",
      "Yiehaa, birthday Alpaca!\n",
      "Oh no, my hairs are turning grey!\n",
      "Yiehaa, birthday Alpaca!\n",
      "I am Alpi the Grey Alpaca and I am 6 years old\n"
     ]
    }
   ],
   "source": [
    "class Alpaca:\n",
    "    def __init__(self, name, age = 0, color = \"Purple\"):\n",
    "        self.name = name\n",
    "        self.age = age\n",
    "        self.color = color\n",
    "\n",
    "    def __repr__(self):\n",
    "        return f'I am {self.name} the {self.color} Alpaca and I am {self.age} years old'\n",
    "\n",
    "    def birthday(self):\n",
    "        self.age += 1\n",
    "        if self.age == 6:\n",
    "            print('Oh no, my hairs are turning grey!')\n",
    "            self.color = \"Grey\"\n",
    "        return print('Yiehaa, birthday Alpaca!')\n",
    "\n",
    "    def age_fast(self, years):\n",
    "        for i in range(years):\n",
    "            self.birthday()\n",
    "\n",
    "alpi = Alpaca(color=\"Brown\", name=\"Alpi\")\n",
    "print(alpi)\n",
    "\n",
    "alpi.birthday()\n",
    "print(alpi)\n",
    "\n",
    "alpi.age_fast(5)\n",
    "print(alpi)\n"
   ]
  },
  {
   "cell_type": "markdown",
   "metadata": {},
   "source": [
    "## 2.2 What about the Llama?"
   ]
  },
  {
   "cell_type": "code",
   "execution_count": 17,
   "metadata": {},
   "outputs": [
    {
     "name": "stdout",
     "output_type": "stream",
     "text": [
      "I am Alpi the Brown Alpaca and I am 0 years old\n",
      "Yiehaa, birthday Alpaca!\n",
      "I am Alpi the Brown Alpaca and I am 1 years old\n",
      "Yiehaa, birthday Alpaca!\n",
      "Yiehaa, birthday Alpaca!\n",
      "Yiehaa, birthday Alpaca!\n",
      "Yiehaa, birthday Alpaca!\n",
      "Oh no, my hairs are turning grey!\n",
      "Yiehaa, birthday Alpaca!\n",
      "I am Alpi the Grey Alpaca and I am 6 years old\n",
      "I am Llamo the Yellow Llama and I am 0 years old\n",
      "Yiehaa, birthday Llama!\n",
      "I am Llamo the Yellow Llama and I am 1 years old\n",
      "Yiehaa, birthday Llama!\n",
      "Yiehaa, birthday Llama!\n",
      "Yiehaa, birthday Llama!\n",
      "Yiehaa, birthday Llama!\n",
      "Yiehaa, birthday Llama!\n",
      "Yiehaa, birthday Llama!\n",
      "Yiehaa, birthday Llama!\n",
      "Oh no, my hairs are turning grey!\n",
      "Yiehaa, birthday Llama!\n",
      "I am Llamo the Grey Llama and I am 9 years old\n"
     ]
    }
   ],
   "source": [
    "class Alpaca:\n",
    "    def __init__(self, name, age = 0, color = \"Purple\"):\n",
    "        self.name = name\n",
    "        self.age = age\n",
    "        self.color = color\n",
    "\n",
    "    def __repr__(self):\n",
    "        return f'I am {self.name} the {self.color} Alpaca and I am {self.age} years old'\n",
    "\n",
    "    def birthday(self):\n",
    "        self.age += 1\n",
    "        if self.age == 6:\n",
    "            print('Oh no, my hairs are turning grey!')\n",
    "            self.color = \"Grey\"\n",
    "        return print('Yiehaa, birthday Alpaca!')\n",
    "\n",
    "    def age_fast(self, years):\n",
    "        for i in range(years):\n",
    "            self.birthday()\n",
    "\n",
    "\n",
    "class Llama:\n",
    "    def __init__(self, name, age=0, color=\"Green\"):\n",
    "        self.name = name\n",
    "        self.age = age\n",
    "        self.color = color\n",
    "\n",
    "    def __repr__(self):\n",
    "        return f'I am {self.name} the {self.color} Llama and I am {self.age} years old'\n",
    "\n",
    "    def birthday(self):\n",
    "        self.age += 1\n",
    "        if self.age == 9:\n",
    "            print('Oh no, my hairs are turning grey!')\n",
    "            self.color = \"Grey\"\n",
    "        return print('Yiehaa, birthday Llama!')\n",
    "\n",
    "    def age_fast(self, years):\n",
    "        for i in range(years):\n",
    "            self.birthday()\n",
    "\n",
    "    def revive(self):\n",
    "        self.age -= 1\n",
    "\n",
    "alpi = Alpaca(color=\"Brown\", name=\"Alpi\")\n",
    "print(alpi)\n",
    "\n",
    "alpi.birthday()\n",
    "print(alpi)\n",
    "\n",
    "alpi.age_fast(5)\n",
    "print(alpi)\n",
    "\n",
    "llamo = Llama(color=\"Yellow\", name=\"Llamo\")\n",
    "print(llamo)\n",
    "\n",
    "llamo.birthday()\n",
    "print(llamo)\n",
    "\n",
    "llamo.age_fast(8)\n",
    "print(llamo)\n",
    "\n",
    "llamo.revive()\n",
    "print(llamo)"
   ]
  },
  {
   "cell_type": "markdown",
   "metadata": {},
   "source": [
    "## 2.3 Animal"
   ]
  },
  {
   "cell_type": "code",
   "execution_count": 21,
   "metadata": {},
   "outputs": [
    {
     "name": "stdout",
     "output_type": "stream",
     "text": [
      "I am Alpi the Brown Alpaca and I am 0 years old\n",
      "Yiehaa, birthday Alpaca!\n",
      "I am Alpi the Brown Alpaca and I am 1 years old\n",
      "Yiehaa, birthday Alpaca!\n",
      "Yiehaa, birthday Alpaca!\n",
      "Yiehaa, birthday Alpaca!\n",
      "Yiehaa, birthday Alpaca!\n",
      "Oh no, my hairs are turning grey!\n",
      "Yiehaa, birthday Alpaca!\n",
      "I am Alpi the Grey Alpaca and I am 6 years old\n",
      "I am Llamo the Yellow Llama and I am 0 years old\n",
      "Yiehaa, birthday Llama!\n",
      "I am Llamo the Yellow Llama and I am 1 years old\n",
      "Yiehaa, birthday Llama!\n",
      "Yiehaa, birthday Llama!\n",
      "Yiehaa, birthday Llama!\n",
      "Yiehaa, birthday Llama!\n",
      "Yiehaa, birthday Llama!\n",
      "Yiehaa, birthday Llama!\n",
      "Yiehaa, birthday Llama!\n",
      "Oh no, my hairs are turning grey!\n",
      "Yiehaa, birthday Llama!\n",
      "I am Llamo the Grey Llama and I am 9 years old\n",
      "I am Llamo the Grey Llama and I am 8 years old\n"
     ]
    }
   ],
   "source": [
    "class Animal:\n",
    "    def __init__(self, name, age, color, old_age):\n",
    "        self.name = name\n",
    "        self.age = age\n",
    "        self.color = color\n",
    "        self.old_age = old_age\n",
    "\n",
    "    def __repr__(self):\n",
    "        return f'I am {self.name} the {self.color} {type(self).__name__} and I am {self.age} years old'\n",
    "\n",
    "    def birthday(self):\n",
    "        self.age += 1\n",
    "        if self.age == self.old_age + 1:\n",
    "            print('Oh no, my hairs are turning grey!')\n",
    "            self.color = \"Grey\"\n",
    "        return print(f'Yiehaa, birthday {type(self).__name__}!')\n",
    "\n",
    "    def age_fast(self, years):\n",
    "        for i in range(years):\n",
    "            self.birthday()\n",
    "\n",
    "class Alpaca(Animal):\n",
    "    def __init__(self, name, age=0, color=\"Purple\"):\n",
    "        super().__init__(name, age, color, 5)\n",
    "\n",
    "class Llama(Animal):\n",
    "    def __init__(self, name, age=0, color=\"Green\"):\n",
    "        super().__init__(name, age, color, 8)\n",
    "\n",
    "    def revive(self):\n",
    "        self.age -= 1\n",
    "    \n",
    "\n",
    "alpi = Alpaca(color=\"Brown\", name=\"Alpi\")\n",
    "print(alpi)\n",
    "\n",
    "alpi.birthday()\n",
    "print(alpi)\n",
    "\n",
    "alpi.age_fast(5)\n",
    "print(alpi)\n",
    "\n",
    "llamo = Llama(color=\"Yellow\", name=\"Llamo\")\n",
    "print(llamo)\n",
    "\n",
    "llamo.birthday()\n",
    "print(llamo)\n",
    "\n",
    "llamo.age_fast(8)\n",
    "print(llamo)\n",
    "\n",
    "llamo.revive()\n",
    "print(llamo)"
   ]
  },
  {
   "cell_type": "markdown",
   "metadata": {},
   "source": [
    "## 3.1 Tesla"
   ]
  },
  {
   "cell_type": "code",
   "execution_count": 22,
   "metadata": {},
   "outputs": [
    {
     "ename": "SyntaxError",
     "evalue": "unexpected EOF while parsing (3875448527.py, line 5)",
     "output_type": "error",
     "traceback": [
      "\u001b[0;36m  Input \u001b[0;32mIn [22]\u001b[0;36m\u001b[0m\n\u001b[0;31m    class Tesla:\u001b[0m\n\u001b[0m                ^\u001b[0m\n\u001b[0;31mSyntaxError\u001b[0m\u001b[0;31m:\u001b[0m unexpected EOF while parsing\n"
     ]
    }
   ],
   "source": [
    "import enum\n",
    "class type(enum.Enum):\n",
    "    S\n",
    "    3\n",
    "    X\n",
    "    Y\n",
    "\n",
    "class color(enum.Enum):\n",
    "    Blue = \"Deep Blue\"\n",
    "    Silver = \"Midnight Silver\"\n",
    "    White = \"Pearl White\"\n",
    "    Red = \"Red\"\n",
    "    Black = \"Solid Black\"\n",
    "\n",
    "class Tesla:\n",
    "    mileage = 0\n",
    "    panel = False\n",
    "    # batterypack"
   ]
  }
 ],
 "metadata": {
  "interpreter": {
   "hash": "916dbcbb3f70747c44a77c7bcd40155683ae19c65e1c03b4aa3499c5328201f1"
  },
  "kernelspec": {
   "display_name": "Python 3.8.10 64-bit",
   "language": "python",
   "name": "python3"
  },
  "language_info": {
   "codemirror_mode": {
    "name": "ipython",
    "version": 3
   },
   "file_extension": ".py",
   "mimetype": "text/x-python",
   "name": "python",
   "nbconvert_exporter": "python",
   "pygments_lexer": "ipython3",
   "version": "3.8.10"
  },
  "orig_nbformat": 4
 },
 "nbformat": 4,
 "nbformat_minor": 2
}
